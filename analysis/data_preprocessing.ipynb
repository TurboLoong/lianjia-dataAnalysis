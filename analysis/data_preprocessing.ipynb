{
 "cells": [
  {
   "cell_type": "code",
   "execution_count": 16,
   "metadata": {},
   "outputs": [],
   "source": [
    "import requests\n",
    "from bs4 import BeautifulSoup\n",
    "import re\n",
    "\n",
    "res = requests.get('http://news.sina.com.cn/china/')\n",
    "res.encoding = 'utf-8'"
   ]
  },
  {
   "cell_type": "code",
   "execution_count": 19,
   "metadata": {},
   "outputs": [],
   "source": [
    "soup = BeautifulSoup(res.text, 'html.parser')\n",
    "newsary = []\n",
    "for link in soup.select('.feed-card-item'):\n",
    "    print(link)\n",
    "    if len(link.select('h2 a')) > 0:\n",
    "        newsary.append(getArticle(link.select('h2 a')[0]['href']))"
   ]
  },
  {
   "cell_type": "code",
   "execution_count": 8,
   "metadata": {},
   "outputs": [],
   "source": [
    "def getArticle(url):\n",
    "    res = requests.get(url)\n",
    "    res.encoding = 'utf-8'\n",
    "    \n",
    "    soup = BeautifulSoup(res.text, 'html.parser')\n",
    "    dic = {}\n",
    "    \n",
    "    dic['title'] = soup.select('.main-title')[0].text\n",
    "    dic['content'] = ' '.join(soup.select('.article')[0].text.split())\n",
    "    dic['source'] = soup.select('.date-source')[0].text\n",
    "    dic['keyword'] = soup.select('#article-bottom')[0].text\n",
    "    return dic"
   ]
  },
  {
   "cell_type": "code",
   "execution_count": 14,
   "metadata": {},
   "outputs": [
    {
     "data": {
      "text/html": [
       "<div>\n",
       "<style scoped>\n",
       "    .dataframe tbody tr th:only-of-type {\n",
       "        vertical-align: middle;\n",
       "    }\n",
       "\n",
       "    .dataframe tbody tr th {\n",
       "        vertical-align: top;\n",
       "    }\n",
       "\n",
       "    .dataframe thead th {\n",
       "        text-align: right;\n",
       "    }\n",
       "</style>\n",
       "<table border=\"1\" class=\"dataframe\">\n",
       "  <thead>\n",
       "    <tr style=\"text-align: right;\">\n",
       "      <th></th>\n",
       "    </tr>\n",
       "  </thead>\n",
       "  <tbody>\n",
       "  </tbody>\n",
       "</table>\n",
       "</div>"
      ],
      "text/plain": [
       "Empty DataFrame\n",
       "Columns: []\n",
       "Index: []"
      ]
     },
     "execution_count": 14,
     "metadata": {},
     "output_type": "execute_result"
    }
   ],
   "source": [
    "import pandas\n",
    "df = pandas.DataFrame(newsary)\n",
    "df.head(10)"
   ]
  },
  {
   "cell_type": "code",
   "execution_count": 22,
   "metadata": {},
   "outputs": [
    {
     "data": {
      "text/plain": [
       "['兰州', '文明城市']"
      ]
     },
     "execution_count": 22,
     "metadata": {},
     "output_type": "execute_result"
    }
   ],
   "source": [
    "'\\n文章关键词：\\n兰州 文明城市\\n'.split('：')[1].split()"
   ]
  },
  {
   "cell_type": "code",
   "execution_count": 57,
   "metadata": {},
   "outputs": [],
   "source": [
    "import pandas as pd\n",
    "order_cols = ['Time','Action','User','Product', 'Quantity','Price']\n",
    "view_cols = ['Time', 'Action', 'User', 'Product']\n",
    "orders = pd.read_csv('../purchase_order.tab', sep='\\t', parse_dates={'Dates': [0]}, names = order_cols, encoding='utf-8')\n",
    "views = pd.read_csv('../purchase_view.tab', sep='\\t', parse_dates={'Dates': [0]}, names = view_cols, encoding='utf-8')"
   ]
  },
  {
   "cell_type": "code",
   "execution_count": 59,
   "metadata": {},
   "outputs": [],
   "source": [
    "buys_cnt = orders.groupby(['User', 'Product'])['Product'].count().reset_index(name='buys')\n",
    "views_cnt = views.groupby(['User', 'Product'])['Product'].count().reset_index(name='views')"
   ]
  },
  {
   "cell_type": "code",
   "execution_count": 63,
   "metadata": {},
   "outputs": [],
   "source": [
    "orders['Total_Price'] = orders['Quantity'] * orders['Price']"
   ]
  },
  {
   "cell_type": "code",
   "execution_count": 73,
   "metadata": {},
   "outputs": [
    {
     "data": {
      "text/plain": [
       "User\n",
       "U166708333      2942744.0\n",
       "U10120098943    1451117.0\n",
       "U142809250       747550.0\n",
       "U1006283751      515688.0\n",
       "U10114715330     456782.0\n",
       "Name: Total_Price, dtype: float64"
      ]
     },
     "execution_count": 73,
     "metadata": {},
     "output_type": "execute_result"
    }
   ],
   "source": [
    "orders.groupby('User')['Total_Price'].sum().sort_values(ascending=False).head()"
   ]
  },
  {
   "cell_type": "code",
   "execution_count": 65,
   "metadata": {},
   "outputs": [],
   "source": [
    "# 以数量多的为右匹配\n",
    "merge_df = pd.merge(buys_cnt, views_cnt, on=['User', 'Product'], how='right')"
   ]
  },
  {
   "cell_type": "code",
   "execution_count": 69,
   "metadata": {},
   "outputs": [
    {
     "data": {
      "text/plain": [
       "0    2015-07-01\n",
       "1    2015-07-01\n",
       "2    2015-07-01\n",
       "3    2015-07-01\n",
       "4    2015-07-01\n",
       "Name: Dates, dtype: object"
      ]
     },
     "execution_count": 69,
     "metadata": {},
     "output_type": "execute_result"
    }
   ],
   "source": [
    "views['Dates'].dt.date.head()"
   ]
  },
  {
   "cell_type": "code",
   "execution_count": 71,
   "metadata": {},
   "outputs": [
    {
     "data": {
      "text/plain": [
       "Dates\n",
       "2015-07-01    24569\n",
       "2015-07-02    17043\n",
       "2015-07-03    28041\n",
       "2015-07-04    28625\n",
       "2015-07-05    15522\n",
       "Name: Action, dtype: int64"
      ]
     },
     "execution_count": 71,
     "metadata": {},
     "output_type": "execute_result"
    }
   ],
   "source": [
    "views_cnt_by_date = views.groupby(views['Dates'].dt.date)['Action'].count()\n",
    "views_cnt_by_date.head()"
   ]
  },
  {
   "cell_type": "code",
   "execution_count": 74,
   "metadata": {},
   "outputs": [
    {
     "data": {
      "text/plain": [
       "<matplotlib.axes._subplots.AxesSubplot at 0x10e697c9288>"
      ]
     },
     "execution_count": 74,
     "metadata": {},
     "output_type": "execute_result"
    },
    {
     "data": {
      "image/png": "[encoded data removed]",
      "text/plain": [
       "<Figure size 720x360 with 1 Axes>"
      ]
     },
     "metadata": {
      "needs_background": "light"
     },
     "output_type": "display_data"
    }
   ],
   "source": [
    "# 看日期的习惯\n",
    "views_cnt_by_date.plot(kind='line', figsize=[10,5])"
   ]
  },
  {
   "cell_type": "code",
   "execution_count": 75,
   "metadata": {},
   "outputs": [
    {
     "data": {
      "text/plain": [
       "<matplotlib.axes._subplots.AxesSubplot at 0x10e6cf2f808>"
      ]
     },
     "execution_count": 75,
     "metadata": {},
     "output_type": "execute_result"
    },
    {
     "data": {
      "image/png": "[encoded data removed]",
      "text/plain": [
       "<Figure size 720x360 with 1 Axes>"
      ]
     },
     "metadata": {
      "needs_background": "light"
     },
     "output_type": "display_data"
    }
   ],
   "source": [
    "# 看每天的时间段习惯\n",
    "views_cnt_by_hour = views.groupby(views['Dates'].dt.hour)['Action'].count()\n",
    "views_cnt_by_hour.plot(kind='line', figsize=[10,5])"
   ]
  },
  {
   "cell_type": "code",
   "execution_count": 76,
   "metadata": {},
   "outputs": [
    {
     "data": {
      "text/html": [
       "<div>\n",
       "<style scoped>\n",
       "    .dataframe tbody tr th:only-of-type {\n",
       "        vertical-align: middle;\n",
       "    }\n",
       "\n",
       "    .dataframe tbody tr th {\n",
       "        vertical-align: top;\n",
       "    }\n",
       "\n",
       "    .dataframe thead th {\n",
       "        text-align: right;\n",
       "    }\n",
       "</style>\n",
       "<table border=\"1\" class=\"dataframe\">\n",
       "  <thead>\n",
       "    <tr style=\"text-align: right;\">\n",
       "      <th></th>\n",
       "      <th>Dates</th>\n",
       "      <th>Action</th>\n",
       "      <th>User</th>\n",
       "      <th>Product</th>\n",
       "      <th>Quantity</th>\n",
       "      <th>Price</th>\n",
       "      <th>Total_Price</th>\n",
       "    </tr>\n",
       "  </thead>\n",
       "  <tbody>\n",
       "    <tr>\n",
       "      <th>0</th>\n",
       "      <td>2015-07-01 00:00:01</td>\n",
       "      <td>order</td>\n",
       "      <td>U312622727</td>\n",
       "      <td>P0006944501</td>\n",
       "      <td>1</td>\n",
       "      <td>1069.0</td>\n",
       "      <td>1069.0</td>\n",
       "    </tr>\n",
       "    <tr>\n",
       "      <th>1</th>\n",
       "      <td>2015-07-01 00:00:03</td>\n",
       "      <td>order</td>\n",
       "      <td>U239012343</td>\n",
       "      <td>P0006018073</td>\n",
       "      <td>1</td>\n",
       "      <td>1680.0</td>\n",
       "      <td>1680.0</td>\n",
       "    </tr>\n",
       "    <tr>\n",
       "      <th>2</th>\n",
       "      <td>2015-07-01 00:00:19</td>\n",
       "      <td>order</td>\n",
       "      <td>U10007697373</td>\n",
       "      <td>P0002267974</td>\n",
       "      <td>1</td>\n",
       "      <td>285.0</td>\n",
       "      <td>285.0</td>\n",
       "    </tr>\n",
       "    <tr>\n",
       "      <th>3</th>\n",
       "      <td>2015-07-01 00:01:10</td>\n",
       "      <td>order</td>\n",
       "      <td>U296328517</td>\n",
       "      <td>P0016144236</td>\n",
       "      <td>1</td>\n",
       "      <td>550.0</td>\n",
       "      <td>550.0</td>\n",
       "    </tr>\n",
       "    <tr>\n",
       "      <th>4</th>\n",
       "      <td>2015-07-01 00:01:36</td>\n",
       "      <td>order</td>\n",
       "      <td>U300884570</td>\n",
       "      <td>P0014516980122</td>\n",
       "      <td>1</td>\n",
       "      <td>249.0</td>\n",
       "      <td>249.0</td>\n",
       "    </tr>\n",
       "    <tr>\n",
       "      <th>...</th>\n",
       "      <td>...</td>\n",
       "      <td>...</td>\n",
       "      <td>...</td>\n",
       "      <td>...</td>\n",
       "      <td>...</td>\n",
       "      <td>...</td>\n",
       "      <td>...</td>\n",
       "    </tr>\n",
       "    <tr>\n",
       "      <th>54767</th>\n",
       "      <td>2015-07-30 23:58:53</td>\n",
       "      <td>order</td>\n",
       "      <td>U18517004</td>\n",
       "      <td>P0006036273</td>\n",
       "      <td>1</td>\n",
       "      <td>2899.0</td>\n",
       "      <td>2899.0</td>\n",
       "    </tr>\n",
       "    <tr>\n",
       "      <th>54768</th>\n",
       "      <td>2015-07-30 23:59:24</td>\n",
       "      <td>order</td>\n",
       "      <td>U217552746</td>\n",
       "      <td>P0010409991</td>\n",
       "      <td>1</td>\n",
       "      <td>253.0</td>\n",
       "      <td>253.0</td>\n",
       "    </tr>\n",
       "    <tr>\n",
       "      <th>54769</th>\n",
       "      <td>2015-07-30 23:59:33</td>\n",
       "      <td>order</td>\n",
       "      <td>U395036534</td>\n",
       "      <td>P0025123755</td>\n",
       "      <td>1</td>\n",
       "      <td>690.0</td>\n",
       "      <td>690.0</td>\n",
       "    </tr>\n",
       "    <tr>\n",
       "      <th>54770</th>\n",
       "      <td>2015-07-30 23:59:37</td>\n",
       "      <td>order</td>\n",
       "      <td>U14085643</td>\n",
       "      <td>P0009890670031</td>\n",
       "      <td>1</td>\n",
       "      <td>245.0</td>\n",
       "      <td>245.0</td>\n",
       "    </tr>\n",
       "    <tr>\n",
       "      <th>54771</th>\n",
       "      <td>2015-07-30 23:59:56</td>\n",
       "      <td>order</td>\n",
       "      <td>U33015290</td>\n",
       "      <td>P0014252055</td>\n",
       "      <td>1</td>\n",
       "      <td>1493.0</td>\n",
       "      <td>1493.0</td>\n",
       "    </tr>\n",
       "  </tbody>\n",
       "</table>\n",
       "<p>54772 rows × 7 columns</p>\n",
       "</div>"
      ],
      "text/plain": [
       "                    Dates Action          User         Product  Quantity  \\\n",
       "0     2015-07-01 00:00:01  order    U312622727     P0006944501         1   \n",
       "1     2015-07-01 00:00:03  order    U239012343     P0006018073         1   \n",
       "2     2015-07-01 00:00:19  order  U10007697373     P0002267974         1   \n",
       "3     2015-07-01 00:01:10  order    U296328517     P0016144236         1   \n",
       "4     2015-07-01 00:01:36  order    U300884570  P0014516980122         1   \n",
       "...                   ...    ...           ...             ...       ...   \n",
       "54767 2015-07-30 23:58:53  order     U18517004     P0006036273         1   \n",
       "54768 2015-07-30 23:59:24  order    U217552746     P0010409991         1   \n",
       "54769 2015-07-30 23:59:33  order    U395036534     P0025123755         1   \n",
       "54770 2015-07-30 23:59:37  order     U14085643  P0009890670031         1   \n",
       "54771 2015-07-30 23:59:56  order     U33015290     P0014252055         1   \n",
       "\n",
       "        Price  Total_Price  \n",
       "0      1069.0       1069.0  \n",
       "1      1680.0       1680.0  \n",
       "2       285.0        285.0  \n",
       "3       550.0        550.0  \n",
       "4       249.0        249.0  \n",
       "...       ...          ...  \n",
       "54767  2899.0       2899.0  \n",
       "54768   253.0        253.0  \n",
       "54769   690.0        690.0  \n",
       "54770   245.0        245.0  \n",
       "54771  1493.0       1493.0  \n",
       "\n",
       "[54772 rows x 7 columns]"
      ]
     },
     "execution_count": 76,
     "metadata": {},
     "output_type": "execute_result"
    }
   ],
   "source": [
    "orders"
   ]
  },
  {
   "cell_type": "code",
   "execution_count": 78,
   "metadata": {},
   "outputs": [],
   "source": [
    "total_price_by_user = orders.groupby('User')['Total_Price'].sum().sort_values(ascending=False)[:10]"
   ]
  },
  {
   "cell_type": "code",
   "execution_count": 79,
   "metadata": {},
   "outputs": [
    {
     "data": {
      "text/plain": [
       "<matplotlib.axes._subplots.AxesSubplot at 0x10e6cefb348>"
      ]
     },
     "execution_count": 79,
     "metadata": {},
     "output_type": "execute_result"
    },
    {
     "data": {
      "image/png": "[encoded data removed]",
      "text/plain": [
       "<Figure size 720x360 with 1 Axes>"
      ]
     },
     "metadata": {
      "needs_background": "light"
     },
     "output_type": "display_data"
    }
   ],
   "source": [
    "total_price_by_user.plot(kind='bar', figsize=[10, 5])"
   ]
  },
  {
   "cell_type": "code",
   "execution_count": 86,
   "metadata": {},
   "outputs": [
    {
     "data": {
      "text/plain": [
       "<matplotlib.axes._subplots.AxesSubplot at 0x10e6cd06388>"
      ]
     },
     "execution_count": 86,
     "metadata": {},
     "output_type": "execute_result"
    },
    {
     "data": {
      "image/png": "[encoded data removed]",
      "text/plain": [
       "<Figure size 720x360 with 1 Axes>"
      ]
     },
     "metadata": {
      "needs_background": "light"
     },
     "output_type": "display_data"
    }
   ],
   "source": [
    "order_by_date = orders.groupby(orders['Dates'].dt.date)['Action'].count()\n",
    "view_by_date = views.groupby(views['Dates'].dt.date)['Action'].count()\n",
    "df = pd.concat([order_by_date, view_by_date], axis=1)\n",
    "df.dropna(inplace=True)\n",
    "df.columns=['buys', 'view']\n",
    "df.plot(kind='line', figsize=[10, 5], rot=30)"
   ]
  },
  {
   "cell_type": "code",
   "execution_count": 84,
   "metadata": {},
   "outputs": [
    {
     "data": {
      "text/plain": [
       "Index([2015-07-01, 2015-07-02, 2015-07-03, 2015-07-04, 2015-07-05, 2015-07-06,\n",
       "       2015-07-07, 2015-07-08, 2015-07-09, 2015-07-10, 2015-07-11, 2015-07-12,\n",
       "       2015-07-13, 2015-07-14, 2015-07-15, 2015-07-16, 2015-07-17, 2015-07-18,\n",
       "       2015-07-19, 2015-07-20, 2015-07-21, 2015-07-22, 2015-07-23, 2015-07-24,\n",
       "       2015-07-25, 2015-07-26, 2015-07-27, 2015-07-28, 2015-07-29, 2015-07-30],\n",
       "      dtype='object', name='Dates')"
      ]
     },
     "execution_count": 84,
     "metadata": {},
     "output_type": "execute_result"
    }
   ],
   "source": [
    "order_by_date.index"
   ]
  },
  {
   "cell_type": "code",
   "execution_count": null,
   "metadata": {},
   "outputs": [],
   "source": []
  }
 ],
 "metadata": {
  "kernelspec": {
   "display_name": "Python [conda env:root] *",
   "language": "python",
   "name": "conda-root-py"
  },
  "language_info": {
   "codemirror_mode": {
    "name": "ipython",
    "version": 3
   },
   "file_extension": ".py",
   "mimetype": "text/x-python",
   "name": "python",
   "nbconvert_exporter": "python",
   "pygments_lexer": "ipython3",
   "version": "3.7.4"
  }
 },
 "nbformat": 4,
 "nbformat_minor": 4
}
